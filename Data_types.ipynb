{
 "cells": [
  {
   "cell_type": "markdown",
   "id": "489f40b7",
   "metadata": {},
   "source": [
    "DATA TYPES "
   ]
  },
  {
   "cell_type": "markdown",
   "id": "7f359fee",
   "metadata": {},
   "source": [
    "Data types are some built-in concepts that actually just classify a certain variable\n"
   ]
  },
  {
   "cell_type": "markdown",
   "id": "f93a3c42",
   "metadata": {},
   "source": [
    "Types of variables "
   ]
  },
  {
   "cell_type": "markdown",
   "id": "ed7ba501",
   "metadata": {},
   "source": [
    "1. integer (int)\n",
    "2. boolen (bool)\n",
    "3. string (str)\n",
    "4. Dictionary (dict)\n",
    "5. Float (float)\n",
    "etc."
   ]
  },
  {
   "cell_type": "markdown",
   "id": "046fb454",
   "metadata": {},
   "source": [
    "to check data type of a variable\n"
   ]
  },
  {
   "cell_type": "code",
   "execution_count": 2,
   "id": "f5fd5b49",
   "metadata": {},
   "outputs": [
    {
     "name": "stdout",
     "output_type": "stream",
     "text": [
      "<class 'str'>\n"
     ]
    }
   ],
   "source": [
    "x = 'Dimpho'\n",
    "print(type(x))"
   ]
  },
  {
   "cell_type": "markdown",
   "id": "cbdf2ff2",
   "metadata": {},
   "source": [
    "We have couple of numeric data types like (int) for integer number and (float) for decimal numbers .. and in python we can assign or re-assign a data type to a number \n",
    "\n",
    "for example:"
   ]
  },
  {
   "cell_type": "code",
   "execution_count": 3,
   "id": "77ef8a28",
   "metadata": {},
   "outputs": [],
   "source": [
    "y = int(1.8)\n",
    "x = float(2)"
   ]
  },
  {
   "cell_type": "markdown",
   "id": "77b563be",
   "metadata": {},
   "source": [
    "i guess this is the simplest was to explain data types in python "
   ]
  }
 ],
 "metadata": {
  "kernelspec": {
   "display_name": "Python 3",
   "language": "python",
   "name": "python3"
  },
  "language_info": {
   "codemirror_mode": {
    "name": "ipython",
    "version": 3
   },
   "file_extension": ".py",
   "mimetype": "text/x-python",
   "name": "python",
   "nbconvert_exporter": "python",
   "pygments_lexer": "ipython3",
   "version": "3.11.0"
  }
 },
 "nbformat": 4,
 "nbformat_minor": 5
}
